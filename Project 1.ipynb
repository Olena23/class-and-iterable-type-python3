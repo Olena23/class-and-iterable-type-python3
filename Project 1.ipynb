{
 "cells": [
  {
   "cell_type": "markdown",
   "metadata": {},
   "source": [
    "### Project"
   ]
  },
  {
   "cell_type": "markdown",
   "metadata": {},
   "source": [
    "In this project you are asked to create a sequence type that will return a series of (regular convex) Polygon objects.\n",
    "\n",
    "Each polygon will be uniquely be defined by:\n",
    "* it is a regular convex polygon:\n",
    "    * edges (sides) are all of equal length\n",
    "    * angles between edges are all equal\n",
    "* the center of the polygon is `(0,0)`\n",
    "* the number of vertices (minimum `3`)\n",
    "* the distance from the center to any vertex should be `R` unit (this is sometimes described as the polygon having a *circumradius* of `R`)\n",
    "\n",
    "The sequence should be finite - so creating an instance of this sequence will require the passing in the number of polygons in the sequence to the initializer.\n",
    "\n",
    "The Polygon objects should be immutable, as should the sequence itself."
   ]
  },
  {
   "cell_type": "markdown",
   "metadata": {},
   "source": [
    "In addition, each Polygon should have the following properties:\n",
    "* number of vertices\n",
    "* number of edges (sides)\n",
    "* the edge length\n",
    "* the apothem (distance from center to mid-point of any edge)\n",
    "* surface area\n",
    "* perimeter\n",
    "* interior angle (angle between each edge) - in degrees\n",
    "* supports equality based on # edges and circumradius\n",
    "* supports ordering based on number of edges only"
   ]
  },
  {
   "cell_type": "markdown",
   "metadata": {},
   "source": [
    "The sequence object should also have the following properties:\n",
    "\n",
    "* should support fully-featured slicing and indexing (positive indices, negative indices, slicing, and extended slicing)\n",
    "* should support the `length()` function\n",
    "* should provide the polygon with the highest `area:perimeter` ratio"
   ]
  },
  {
   "cell_type": "markdown",
   "metadata": {},
   "source": [
    "You will need to do a little bit of math for this project. The necessary formulas are included in the video."
   ]
  },
  {
   "cell_type": "markdown",
   "metadata": {},
   "source": [
    "##### Goal 1"
   ]
  },
  {
   "cell_type": "markdown",
   "metadata": {},
   "source": [
    "Create a Polygon class with the properties defined above. The initializer for the class will need the number of vertices (or edges, same), and the circumradius (`R`).\n",
    "\n",
    "Make sure you test all your methods and properties. (This is called unit testing)"
   ]
  },
  {
   "cell_type": "markdown",
   "metadata": {},
   "source": [
    "##### Goal 2"
   ]
  },
  {
   "cell_type": "markdown",
   "metadata": {},
   "source": [
    "Create a finite sequence type that is a sequence of Polygons start with `3` vertices, up to, and including some maximum value `m` which will need to be passed to the initializer of the sequence type.\n",
    "\n",
    "The value for the circumradius `R`, will also need to be provided to the initializer.\n",
    "\n",
    "Again make sure you test your code!"
   ]
  },
  {
   "cell_type": "code",
   "execution_count": 41,
   "metadata": {},
   "outputs": [],
   "source": [
    "import math"
   ]
  },
  {
   "cell_type": "code",
   "execution_count": 42,
   "metadata": {
    "collapsed": true
   },
   "outputs": [],
   "source": [
    "class Polygon:\n",
    "    'Common base class for all polygons'\n",
    "\n",
    "    def __init__(self, edges, circumradius):\n",
    "        if edges < 3:\n",
    "            raise  ValueError\n",
    "        self.edges = edges\n",
    "        self.circumradius = circumradius\n",
    "        \n",
    "    def __repr__(self):\n",
    "        return \"A polygon with {a} edges and circumradius of {b}\".format(a=self.edges, b=self.circumradius)\n",
    "\n",
    "    def __eq__(self, other):\n",
    "        \"\"\"Overrides the default implementation\"\"\"\n",
    "        if isinstance(other, Polygon):\n",
    "            return self.edges == other.edges and self.circumradius == other.circumradius\n",
    "        return ValueError\n",
    "    \n",
    "    def __gt__(self, other):\n",
    "        \"\"\"Overrides the default implementation\"\"\"\n",
    "        if isinstance(other, Polygon):\n",
    "            return self.edges > other.edges\n",
    "        return ValueError\n",
    "    \n",
    "    def interiorAngle(self):\n",
    "        return (self.edges - 2) * (180/self.edges)\n",
    "\n",
    "    def edgeLen(self):\n",
    "        return 2 * self.circumradius * math.sin(math.pi/self.edges)\n",
    "\n",
    "    def apothem(self):\n",
    "        return self.circumradius * math.cos(math.pi/self.edges)\n",
    "    \n",
    "    def area(self):\n",
    "        return 0.5 * self.edges * self.edgeLen() * self.apothem()\n",
    "    \n",
    "    def perim(self):\n",
    "        return self.edges * self.edgeLen()\n"
   ]
  },
  {
   "cell_type": "code",
   "execution_count": 43,
   "metadata": {},
   "outputs": [],
   "source": [
    "square = Polygon(4, 8)"
   ]
  },
  {
   "cell_type": "code",
   "execution_count": 44,
   "metadata": {},
   "outputs": [
    {
     "data": {
      "text/plain": [
       "'A polygon with 4 edges and circumradius of 8'"
      ]
     },
     "execution_count": 44,
     "metadata": {},
     "output_type": "execute_result"
    }
   ],
   "source": [
    "repr(square)"
   ]
  },
  {
   "cell_type": "code",
   "execution_count": 45,
   "metadata": {},
   "outputs": [
    {
     "data": {
      "text/plain": [
       "11.31370849898476"
      ]
     },
     "execution_count": 45,
     "metadata": {},
     "output_type": "execute_result"
    }
   ],
   "source": [
    "square.edgeLen()"
   ]
  },
  {
   "cell_type": "code",
   "execution_count": 46,
   "metadata": {},
   "outputs": [
    {
     "data": {
      "text/plain": [
       "5.656854249492381"
      ]
     },
     "execution_count": 46,
     "metadata": {},
     "output_type": "execute_result"
    }
   ],
   "source": [
    "square.apothem()"
   ]
  },
  {
   "cell_type": "code",
   "execution_count": 47,
   "metadata": {},
   "outputs": [
    {
     "data": {
      "text/plain": [
       "128.0"
      ]
     },
     "execution_count": 47,
     "metadata": {},
     "output_type": "execute_result"
    }
   ],
   "source": [
    "square.area()"
   ]
  },
  {
   "cell_type": "code",
   "execution_count": 48,
   "metadata": {},
   "outputs": [
    {
     "data": {
      "text/plain": [
       "90.0"
      ]
     },
     "execution_count": 48,
     "metadata": {},
     "output_type": "execute_result"
    }
   ],
   "source": [
    "square.interiorAngle()"
   ]
  },
  {
   "cell_type": "code",
   "execution_count": 49,
   "metadata": {},
   "outputs": [],
   "source": [
    "square2 = Polygon(4, 8)"
   ]
  },
  {
   "cell_type": "code",
   "execution_count": 50,
   "metadata": {},
   "outputs": [
    {
     "data": {
      "text/plain": [
       "True"
      ]
     },
     "execution_count": 50,
     "metadata": {},
     "output_type": "execute_result"
    }
   ],
   "source": [
    "square.__eq__(square2)"
   ]
  },
  {
   "cell_type": "code",
   "execution_count": 51,
   "metadata": {},
   "outputs": [
    {
     "data": {
      "text/plain": [
       "False"
      ]
     },
     "execution_count": 51,
     "metadata": {},
     "output_type": "execute_result"
    }
   ],
   "source": [
    "square.__gt__(square2)"
   ]
  },
  {
   "cell_type": "code",
   "execution_count": 52,
   "metadata": {},
   "outputs": [],
   "source": [
    "hexagon = Polygon(6, 8)"
   ]
  },
  {
   "cell_type": "code",
   "execution_count": 53,
   "metadata": {},
   "outputs": [
    {
     "data": {
      "text/plain": [
       "'A polygon with 6 edges and circumradius of 8'"
      ]
     },
     "execution_count": 53,
     "metadata": {},
     "output_type": "execute_result"
    }
   ],
   "source": [
    "hexagon.__repr__()"
   ]
  },
  {
   "cell_type": "code",
   "execution_count": 54,
   "metadata": {},
   "outputs": [
    {
     "data": {
      "text/plain": [
       "True"
      ]
     },
     "execution_count": 54,
     "metadata": {},
     "output_type": "execute_result"
    }
   ],
   "source": [
    "hexagon.__gt__(square2)"
   ]
  },
  {
   "cell_type": "code",
   "execution_count": 55,
   "metadata": {},
   "outputs": [
    {
     "data": {
      "text/plain": [
       "False"
      ]
     },
     "execution_count": 55,
     "metadata": {},
     "output_type": "execute_result"
    }
   ],
   "source": [
    "hexagon.__eq__(square2)"
   ]
  },
  {
   "cell_type": "code",
   "execution_count": 145,
   "metadata": {},
   "outputs": [],
   "source": [
    "class Polygons:\n",
    "    'Common base class for all polygons'\n",
    "\n",
    "    def __init__(self, edges, circumradius):\n",
    "        if edges < 3:\n",
    "            raise  ValueError\n",
    "        self.edges = edges\n",
    "        self.circumradius = circumradius\n",
    "        self._polygons = [Polygon(i, circumradius) for i in range(3, edges + 1)]\n",
    "    \n",
    "    def __len__(self):\n",
    "        return self.edges - 2\n",
    "    \n",
    "    def __repr__(self):\n",
    "        return \"A polygons with {a} edges and circumradius of {b}\".format(a=self.edges, b=self.circumradius)\n",
    "\n",
    "    def __getitem__(self, item):\n",
    "        return self._polygons[item]\n",
    "    \n",
    "    @property\n",
    "    def max_polygon(self):\n",
    "        sorted_polygons = sorted(self._polygons,\n",
    "                                 reverse=True)\n",
    "        return sorted_polygons[0]"
   ]
  },
  {
   "cell_type": "code",
   "execution_count": 146,
   "metadata": {},
   "outputs": [],
   "source": [
    "polygons = Polygons(6, 5)"
   ]
  },
  {
   "cell_type": "code",
   "execution_count": 147,
   "metadata": {},
   "outputs": [
    {
     "data": {
      "text/plain": [
       "4"
      ]
     },
     "execution_count": 147,
     "metadata": {},
     "output_type": "execute_result"
    }
   ],
   "source": [
    "len(polygons)"
   ]
  },
  {
   "cell_type": "code",
   "execution_count": 148,
   "metadata": {},
   "outputs": [
    {
     "data": {
      "text/plain": [
       "[A polygon with 3 edges and circumradius of 5,\n A polygon with 4 edges and circumradius of 5,\n A polygon with 5 edges and circumradius of 5,\n A polygon with 6 edges and circumradius of 5]"
      ]
     },
     "execution_count": 148,
     "metadata": {},
     "output_type": "execute_result"
    }
   ],
   "source": [
    "polygons._polygons"
   ]
  },
  {
   "cell_type": "code",
   "execution_count": 149,
   "metadata": {},
   "outputs": [
    {
     "name": "stdout",
     "output_type": "stream",
     "text": [
      "A polygon with 3 edges and circumradius of 5\nA polygon with 4 edges and circumradius of 5\nA polygon with 5 edges and circumradius of 5\nA polygon with 6 edges and circumradius of 5\n"
     ]
    }
   ],
   "source": [
    "for p in polygons:\n",
    "    print(p)"
   ]
  },
  {
   "cell_type": "code",
   "execution_count": 150,
   "metadata": {
    "collapsed": true
   },
   "outputs": [
    {
     "data": {
      "text/plain": [
       "A polygon with 6 edges and circumradius of 5"
      ]
     },
     "execution_count": 150,
     "metadata": {},
     "output_type": "execute_result"
    }
   ],
   "source": [
    "polygons.max_polygon"
   ]
  },
  {
   "cell_type": "code",
   "execution_count": 151,
   "metadata": {},
   "outputs": [],
   "source": []
  },
  {
   "cell_type": "code",
   "execution_count": null,
   "metadata": {},
   "outputs": [],
   "source": []
  },
  {
   "cell_type": "code",
   "execution_count": null,
   "metadata": {},
   "outputs": [],
   "source": []
  }
 ],
 "metadata": {
  "kernelspec": {
   "display_name": "Python 3",
   "language": "python",
   "name": "python3"
  },
  "language_info": {
   "codemirror_mode": {
    "name": "ipython",
    "version": 3
   },
   "file_extension": ".py",
   "mimetype": "text/x-python",
   "name": "python",
   "nbconvert_exporter": "python",
   "pygments_lexer": "ipython3",
   "version": "3.6.2"
  }
 },
 "nbformat": 4,
 "nbformat_minor": 2
}
